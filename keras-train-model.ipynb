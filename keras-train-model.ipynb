{
 "cells": [
  {
   "cell_type": "markdown",
   "metadata": {},
   "source": [
    "# Model CNN - Emotion Recognition\n",
    "\n",
    "Content:\n",
    "- Crete CNN model with Keras\n",
    "- Dataset Preparation\n",
    "- Callbacks in Keras\n",
    "- Training the Model\n",
    "- Visualization of Training Results\n",
    "- Use the model and add conclusion\n",
    "- Collaborate with ChatGPT"
   ]
  },
  {
   "cell_type": "markdown",
   "metadata": {},
   "source": [
    "## Crete CNN model with Keras"
   ]
  },
  {
   "cell_type": "code",
   "execution_count": 87,
   "metadata": {},
   "outputs": [],
   "source": []
  },
  {
   "cell_type": "markdown",
   "metadata": {},
   "source": [
    "## Dataset Preparation"
   ]
  },
  {
   "cell_type": "markdown",
   "metadata": {},
   "source": [
    "- [Natural Human Face Images for Emotion Recognition - Kaggle](https://www.kaggle.com/datasets/sudarshanvaidya/random-images-for-face-emotion-recognition)"
   ]
  },
  {
   "cell_type": "code",
   "execution_count": null,
   "metadata": {},
   "outputs": [],
   "source": []
  },
  {
   "cell_type": "markdown",
   "metadata": {},
   "source": [
    "## Callbacks"
   ]
  },
  {
   "cell_type": "code",
   "execution_count": 70,
   "metadata": {},
   "outputs": [],
   "source": []
  },
  {
   "cell_type": "markdown",
   "metadata": {},
   "source": [
    "## Training the Model"
   ]
  },
  {
   "cell_type": "code",
   "execution_count": null,
   "metadata": {},
   "outputs": [],
   "source": []
  },
  {
   "cell_type": "markdown",
   "metadata": {},
   "source": [
    "## Visualize change in loss and model accuracy"
   ]
  },
  {
   "cell_type": "code",
   "execution_count": null,
   "metadata": {},
   "outputs": [],
   "source": []
  },
  {
   "cell_type": "markdown",
   "metadata": {},
   "source": [
    "## Use the model"
   ]
  },
  {
   "cell_type": "code",
   "execution_count": null,
   "metadata": {},
   "outputs": [],
   "source": [
    "from tensorflow.keras.models import load_model\n",
    "from tensorflow.keras.preprocessing.image import load_img, img_to_array\n",
    "from IPython.display import Image, display\n",
    "import numpy as np\n",
    "\n",
    "# Load the model\n",
    "model = load_model('model/master/emotion_model_kaggle.h5')\n",
    "\n",
    "img_path = 'dataset/kaggle/happiness/2Q__ (6)_face.png'\n",
    "# Load image\n",
    "img = load_img(img_path, target_size=(48, 48), color_mode='grayscale')\n",
    "\n",
    "# Convert image to array and expand dimension\n",
    "img_array = img_to_array(img)\n",
    "img_array = np.expand_dims(img_array, axis=0)\n",
    "\n",
    "# Standardize (Rescale pixel values)\n",
    "test_data = img_array / 255.0\n",
    "\n",
    "# Make prediction\n",
    "class_indices = {'anger': 0, 'contempt': 1, 'disgust': 2, 'fear': 3, 'happiness': 4, 'neutrality': 5, 'sadness': 6, 'surprise': 7}\n",
    "preds = model.predict(test_data)\n",
    "display(Image(img_path))\n",
    "print(preds[0])\n",
    "slov_res ={}\n",
    "for i in class_indices:\n",
    "    slov_res[i] = preds[0][class_indices[i]]\n",
    "    \n",
    "\n",
    "sorted_keys = sorted(slov_res, key=slov_res.get, reverse = True)\n",
    "sorted_dict = {}\n",
    "for w in sorted_keys:\n",
    "    sorted_dict[w] = slov_res[w]\n",
    "    \n",
    "for i in sorted_dict:\n",
    "    print(str(i) + ': ' + str(sorted_dict[i]*100) + '%')"
   ]
  },
  {
   "cell_type": "markdown",
   "metadata": {},
   "source": [
    "## Add conclusion"
   ]
  },
  {
   "cell_type": "code",
   "execution_count": null,
   "metadata": {},
   "outputs": [],
   "source": [
    "top_emotion = list(sorted_dict.keys())[0]\n",
    "top_emotion_percentage = sorted_dict[top_emotion]*100\n",
    "second_emotion = list(sorted_dict.keys())[1]\n",
    "second_emotion_percentage = sorted_dict[second_emotion]*100\n",
    "\n",
    "print(f\"\\nKesimpulan:\")\n",
    "print(f\"Gambar tersebut sebagian besar menunjukkan emosi {top_emotion} dengan tingkat keyakinan {top_emotion_percentage}%.\")\n",
    "print(f\"Selain itu, model juga merasakan emosi {second_emotion} dengan tingkat keyakinan {second_emotion_percentage}%.\")"
   ]
  },
  {
   "cell_type": "markdown",
   "metadata": {},
   "source": [
    "## Collaborate with ChatGPT "
   ]
  },
  {
   "cell_type": "code",
   "execution_count": 26,
   "metadata": {},
   "outputs": [
    {
     "name": "stdout",
     "output_type": "stream",
     "text": [
      "It's great to hear that! Being happy is a wonderful feeling. Is there anything specific you would like assistance with related to happiness?\n"
     ]
    }
   ],
   "source": [
    "import openai\n",
    "import os\n",
    "from dotenv import load_dotenv, find_dotenv\n",
    "_ = load_dotenv(find_dotenv()) # read local .env file\n",
    "\n",
    "# Set your API key\n",
    "openai.api_key  = os.environ['OPENAI_API_KEY']\n",
    "\n",
    "# Generate a response\n",
    "response = openai.ChatCompletion.create(\n",
    "  model=\"gpt-3.5-turbo\",\n",
    "  messages=[\n",
    "        {\"role\": \"system\", \"content\": \"You are a helpful assistant.\"},\n",
    "        {\"role\": \"user\", \"content\": \"The person seems to be \" + top_emotion}\n",
    "    ]\n",
    ")\n",
    "\n",
    "# Get the response\n",
    "output = response['choices'][0]['message']['content']\n",
    "print(output)"
   ]
  }
 ],
 "metadata": {
  "kernelspec": {
   "display_name": "Python 3",
   "language": "python",
   "name": "python3"
  },
  "language_info": {
   "codemirror_mode": {
    "name": "ipython",
    "version": 3
   },
   "file_extension": ".py",
   "mimetype": "text/x-python",
   "name": "python",
   "nbconvert_exporter": "python",
   "pygments_lexer": "ipython3",
   "version": "3.8.10"
  },
  "orig_nbformat": 4
 },
 "nbformat": 4,
 "nbformat_minor": 2
}
