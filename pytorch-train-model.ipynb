{
 "cells": [
  {
   "cell_type": "markdown",
   "metadata": {},
   "source": [
    "# Train Model for Emotion Recognition\n",
    "\n",
    "Implementasi Convolutional Neural Network (CNN) menggunakan PyTorch dan ResNet (Residual Network) yang dilatih untuk melakukan pengenalan emosi."
   ]
  },
  {
   "cell_type": "markdown",
   "metadata": {},
   "source": [
    "## Installation"
   ]
  },
  {
   "cell_type": "code",
   "execution_count": null,
   "metadata": {},
   "outputs": [],
   "source": [
    "%pip install torch torchvision numpy matplotlib torchsummary torchviz"
   ]
  },
  {
   "cell_type": "markdown",
   "metadata": {},
   "source": [
    "## Model Initialization with CNN Pytorch"
   ]
  },
  {
   "cell_type": "markdown",
   "metadata": {},
   "source": [
    "**CNN** adalah jenis Deep Learning model yang sangat efektif untuk tugas yang berhubungan dengan pengolahan gambar. [**PyTorch**](https://pytorch.org/) adalah programming environment _open-source_ berbasis Python yang dikembangkan oleh Facebook, yang memfasilitasi penelitian dan produksi dalam bidang machine learning\n",
    "\n",
    "![cnn.png](./assets/images/cnn-visualization.gif)\n",
    "\n",
    "Resouce: [what is nn?](https://www.youtube.com/watch?v=aircAruvnKk&t=31s)"
   ]
  },
  {
   "cell_type": "code",
   "execution_count": 35,
   "metadata": {},
   "outputs": [],
   "source": [
    "# Model Summary\n",
    "from torchsummary import summary\n",
    "\n",
    "def get_summary(model):\n",
    "    summary(model, (3, 32, 32), device='cpu')"
   ]
  },
  {
   "cell_type": "code",
   "execution_count": 44,
   "metadata": {},
   "outputs": [],
   "source": [
    "# Model Visualization\n",
    "from torchviz import make_dot\n",
    "import torch\n",
    "\n",
    "def get_torcviz(model):\n",
    "    x = torch.randn(1, 3, 32, 32).requires_grad_(True)\n",
    "    y = model(x)\n",
    "    return make_dot(y, params=dict(list(model.named_parameters()) + [('x', x)]))"
   ]
  },
  {
   "cell_type": "markdown",
   "metadata": {},
   "source": [
    "### Simple CNN"
   ]
  },
  {
   "cell_type": "code",
   "execution_count": null,
   "metadata": {},
   "outputs": [],
   "source": [
    "import torch.nn as nn\n",
    "import torch.nn.functional as F\n",
    "\n",
    "class SimpleCNN(nn.Module):\n",
    "    def __init__(self):\n",
    "        super(SimpleCNN, self).__init__()\n",
    "        self.conv1 = nn.Conv2d(3, 6, 5)\n",
    "        self.pool = nn.MaxPool2d(2, 2)\n",
    "        self.conv2 = nn.Conv2d(6, 16, 5)\n",
    "        self.fc1 = nn.Linear(16 * 5 * 5, 120)\n",
    "        self.fc2 = nn.Linear(120, 84)\n",
    "        self.fc3 = nn.Linear(84, 8)\n",
    "\n",
    "    def forward(self, x):\n",
    "        x = self.pool(F.relu(self.conv1(x)))\n",
    "        x = self.pool(F.relu(self.conv2(x)))\n",
    "        print(x.shape)\n",
    "        x = x.view(-1, 16 * 5 * 5)\n",
    "        x = F.relu(self.fc1(x))\n",
    "        x = F.relu(self.fc2(x))\n",
    "        x = self.fc3(x)\n",
    "        return x\n",
    "\n",
    "model = SimpleCNN()\n",
    "print(model)"
   ]
  },
  {
   "cell_type": "code",
   "execution_count": null,
   "metadata": {},
   "outputs": [],
   "source": [
    "get_summary(model)"
   ]
  },
  {
   "cell_type": "code",
   "execution_count": null,
   "metadata": {},
   "outputs": [],
   "source": [
    "get_torcviz(model)"
   ]
  },
  {
   "cell_type": "markdown",
   "metadata": {},
   "source": [
    "### ResNet CNN"
   ]
  },
  {
   "cell_type": "markdown",
   "metadata": {},
   "source": [
    "**ResNet (Residual Network)** adalah jenis **neural network** yang digunakan khusus untuk memudahkan proses training network. Disini kita menggunakan [**ResNet18**](https://pytorch.org/hub/pytorch_vision_resnet/) dimana ini adalah versi ringan dari ResNet dengan 18 layer dan confidence scores di atas [1000 kelas](https://raw.githubusercontent.com/pytorch/hub/master/imagenet_classes.txt). Ideal untuk situasi di mana efisiensi dan kecepatan penting tanpa mengorbankan performa model.\n",
    "\n",
    "Resnet bisa dicoba di [**Huggingface**](https://huggingface.co/spaces/pytorch/ResNet) dan [**GCollab**](https://colab.research.google.com/github/pytorch/pytorch.github.io/blob/master/assets/hub/pytorch_vision_resnet.ipynb)"
   ]
  },
  {
   "cell_type": "code",
   "execution_count": null,
   "metadata": {},
   "outputs": [],
   "source": [
    "from torchvision import models\n",
    "import torch.nn as nn\n",
    "\n",
    "model = models.resnet18(pretrained=True)\n",
    "print(model)"
   ]
  },
  {
   "cell_type": "code",
   "execution_count": null,
   "metadata": {},
   "outputs": [],
   "source": [
    "get_summary(model)"
   ]
  },
  {
   "cell_type": "code",
   "execution_count": 52,
   "metadata": {},
   "outputs": [
    {
     "name": "stdout",
     "output_type": "stream",
     "text": [
      "Linear(in_features=512, out_features=8, bias=True)\n"
     ]
    }
   ],
   "source": [
    "num_ftrs = model.fc.in_features\n",
    "model.fc = nn.Linear(num_ftrs, 8)\n",
    "\n",
    "print(model.fc)"
   ]
  },
  {
   "cell_type": "code",
   "execution_count": null,
   "metadata": {},
   "outputs": [],
   "source": [
    "get_summary(model)"
   ]
  },
  {
   "cell_type": "markdown",
   "metadata": {},
   "source": [
    "## Preparing Dataset and DataLoader"
   ]
  },
  {
   "cell_type": "markdown",
   "metadata": {},
   "source": [
    "Dataset from [Natural Human Face Images for Emotion Recognition - 8 emotions](https://www.kaggle.com/datasets/sudarshanvaidya/random-images-for-face-emotion-recognition)\n",
    "\n",
    "1. anger\n",
    "2. contempt\n",
    "3. disgust\n",
    "4. fear\n",
    "5. happiness\n",
    "6. neutrality\n",
    "7. sadness\n",
    "8. surprise"
   ]
  },
  {
   "cell_type": "markdown",
   "metadata": {},
   "source": [
    "### Preprocessing and Data Augmentation"
   ]
  },
  {
   "cell_type": "markdown",
   "metadata": {},
   "source": [
    "Code berikut mendefinisikan bagaimana dataset gambar harus ditransformasikan dan dinormalisasi sebelum diinputkan ke model machine learning"
   ]
  },
  {
   "cell_type": "code",
   "execution_count": 57,
   "metadata": {},
   "outputs": [],
   "source": [
    "from torchvision import datasets, transforms\n",
    "\n",
    "data_transforms = {\n",
    "    'train': transforms.Compose([\n",
    "        transforms.Grayscale(num_output_channels=3),\n",
    "        transforms.RandomHorizontalFlip(),\n",
    "        transforms.Resize((32, 32)),\n",
    "        transforms.ToTensor(),\n",
    "        transforms.Normalize([0.485, 0.456, 0.406], [0.229, 0.224, 0.225])\n",
    "    ]),\n",
    "    'val': transforms.Compose([\n",
    "        transforms.Grayscale(num_output_channels=3),\n",
    "        transforms.Resize((32, 32)),\n",
    "        transforms.ToTensor(),\n",
    "        transforms.Normalize([0.485, 0.456, 0.406], [0.229, 0.224, 0.225])\n",
    "    ]),\n",
    "}"
   ]
  },
  {
   "cell_type": "code",
   "execution_count": null,
   "metadata": {},
   "outputs": [],
   "source": [
    "print(data_transforms['train'])"
   ]
  },
  {
   "cell_type": "code",
   "execution_count": null,
   "metadata": {},
   "outputs": [],
   "source": [
    "print(data_transforms['val'])"
   ]
  },
  {
   "cell_type": "markdown",
   "metadata": {},
   "source": [
    "Visualization of Image Config"
   ]
  },
  {
   "cell_type": "code",
   "execution_count": null,
   "metadata": {},
   "outputs": [],
   "source": [
    "from PIL import Image\n",
    "import matplotlib.pyplot as plt\n",
    "\n",
    "# Load image\n",
    "img = Image.open('./dataset/kaggle/happiness/45251146325_60c3635910_n_face.png')\n",
    "\n",
    "# Transformed image\n",
    "plt.imshow(img)\n",
    "plt.title(\"Original Image\")\n",
    "plt.show()\n",
    "\n",
    "# Apply transforms\n",
    "img_transformed = data_transforms['train'](img)\n",
    "\n",
    "# Transformed image\n",
    "img_transformed = img_transformed.permute(1, 2, 0)\n",
    "plt.imshow(img_transformed)\n",
    "plt.title(\"Transformed Image\")\n",
    "plt.show()"
   ]
  },
  {
   "cell_type": "markdown",
   "metadata": {},
   "source": [
    "### Setup Dataset and Dataloader"
   ]
  },
  {
   "cell_type": "code",
   "execution_count": 102,
   "metadata": {},
   "outputs": [
    {
     "data": {
      "text/plain": [
       "<torch.utils.data.dataloader.DataLoader at 0x7fc7c0581ca0>"
      ]
     },
     "execution_count": 102,
     "metadata": {},
     "output_type": "execute_result"
    }
   ],
   "source": [
    "from torch.utils.data import DataLoader\n",
    "\n",
    "trainset = datasets.ImageFolder(root='dataset/kaggle', transform=data_transforms['train'])\n",
    "trainloader = DataLoader(trainset, batch_size=32, shuffle=True)\n",
    "trainloader"
   ]
  },
  {
   "cell_type": "code",
   "execution_count": null,
   "metadata": {},
   "outputs": [],
   "source": [
    "valset = datasets.ImageFolder(root='dataset/kaggle', transform=data_transforms['val'])\n",
    "valloader = DataLoader(valset, batch_size=32, shuffle=True)\n",
    "valloader"
   ]
  },
  {
   "cell_type": "code",
   "execution_count": null,
   "metadata": {},
   "outputs": [],
   "source": [
    "dataloaders = {'train': trainloader, 'val': valloader}\n",
    "print(dataloaders)"
   ]
  },
  {
   "cell_type": "markdown",
   "metadata": {},
   "source": [
    "Visualization of Label Distribution"
   ]
  },
  {
   "cell_type": "code",
   "execution_count": null,
   "metadata": {},
   "outputs": [],
   "source": [
    "import matplotlib.pyplot as plt\n",
    "import numpy as np\n",
    "\n",
    "labels = np.array(trainset.targets)\n",
    "unique_labels, counts = np.unique(labels, return_counts=True)\n",
    "\n",
    "plt.figure(figsize=(10,7))\n",
    "bars = plt.bar(trainset.classes, counts)\n",
    "\n",
    "for bar in bars:\n",
    "    yval = bar.get_height()\n",
    "    plt.text(bar.get_x() + bar.get_width()/2.0, yval, int(yval), va='bottom')\n",
    "\n",
    "plt.title('Label Distribution')\n",
    "plt.xlabel('Labels')\n",
    "plt.ylabel('Count')\n",
    "plt.show()"
   ]
  },
  {
   "cell_type": "markdown",
   "metadata": {},
   "source": [
    "## Training and Validation phase"
   ]
  },
  {
   "cell_type": "markdown",
   "metadata": {},
   "source": [
    "Declare model device and loss function type"
   ]
  },
  {
   "cell_type": "code",
   "execution_count": 79,
   "metadata": {},
   "outputs": [
    {
     "name": "stdout",
     "output_type": "stream",
     "text": [
      "cuda:0\n",
      "CrossEntropyLoss()\n"
     ]
    }
   ],
   "source": [
    "import torch\n",
    "\n",
    "device = torch.device(\"cuda:0\" if torch.cuda.is_available() else \"cpu\")\n",
    "\n",
    "model = model.to(device)\n",
    "criterion = nn.CrossEntropyLoss()\n",
    "\n",
    "print(device)\n",
    "print(criterion)"
   ]
  },
  {
   "cell_type": "markdown",
   "metadata": {},
   "source": [
    "Declare Optimizer, and Learning Rate Scheduler"
   ]
  },
  {
   "cell_type": "code",
   "execution_count": null,
   "metadata": {},
   "outputs": [],
   "source": [
    "import torch.optim as optim\n",
    "from torch.optim import lr_scheduler\n",
    "\n",
    "optimizer = optim.Adam(model.parameters(), lr=0.001)\n",
    "exp_lr_scheduler = lr_scheduler.StepLR(optimizer, step_size=7, gamma=0.1)\n",
    "\n",
    "print(optimizer)\n",
    "print(exp_lr_scheduler)"
   ]
  },
  {
   "cell_type": "markdown",
   "metadata": {},
   "source": [
    "Visualize how learning rates change over time with the Scheduler"
   ]
  },
  {
   "cell_type": "code",
   "execution_count": null,
   "metadata": {},
   "outputs": [],
   "source": [
    "import matplotlib.pyplot as plt\n",
    "\n",
    "lrs = []\n",
    "for i in range(100):\n",
    "    optimizer.step()\n",
    "    exp_lr_scheduler.step()  \n",
    "    lrs.append(optimizer.param_groups[0]['lr'])\n",
    "\n",
    "plt.plot(lrs)\n",
    "plt.ylabel('Learning Rate')\n",
    "plt.xlabel('Step')\n",
    "plt.title('Learning rate scheduling over steps')\n",
    "plt.show()"
   ]
  },
  {
   "cell_type": "markdown",
   "metadata": {},
   "source": [
    "Fungsi `train_one_epoch`: melatih model selama satu epoch. Sebuah epoch adalah satu kali seluruh dataset dilewati baik maju (forward) dan mundur (backward) melalui _neural network_.\n",
    "\n",
    "![backward](./assets/images/backpropagation-algo.gif)"
   ]
  },
  {
   "cell_type": "code",
   "execution_count": null,
   "metadata": {},
   "outputs": [],
   "source": [
    "def train_one_epoch(model, dataloader, criterion, optimizer, device):\n",
    "    model.train()\n",
    "    running_loss = 0.0\n",
    "    running_corrects = 0\n",
    "\n",
    "    for inputs, labels in dataloader:\n",
    "        inputs = inputs.to(device)\n",
    "        labels = labels.to(device)\n",
    "\n",
    "        optimizer.zero_grad()\n",
    "\n",
    "        with torch.set_grad_enabled(True):\n",
    "            outputs = model(inputs)\n",
    "            _, preds = torch.max(outputs, 1)\n",
    "            loss = criterion(outputs, labels)\n",
    "\n",
    "            loss.backward()\n",
    "            optimizer.step()\n",
    "\n",
    "        running_loss += loss.item() * inputs.size(0)\n",
    "        running_corrects += torch.sum(preds == labels.data)\n",
    "    \n",
    "    return running_loss, running_corrects"
   ]
  },
  {
   "cell_type": "code",
   "execution_count": null,
   "metadata": {},
   "outputs": [],
   "source": [
    "running_loss, running_corrects = train_one_epoch(model, dataloaders['train'], criterion, optimizer, device)\n",
    "print(running_loss, running_corrects)"
   ]
  },
  {
   "cell_type": "markdown",
   "metadata": {},
   "source": [
    "Fungsi `validate_one_epoch`: tahap di mana kita mengevaluasi kinerja model pada data yang tidak digunakan selama pelatihan (data validasi) untuk memastikan bahwa model tidak overfitting"
   ]
  },
  {
   "cell_type": "code",
   "execution_count": null,
   "metadata": {},
   "outputs": [],
   "source": [
    "def validate_one_epoch(model, dataloader, criterion, device):\n",
    "    model.eval()\n",
    "    running_loss = 0.0\n",
    "    running_corrects = 0\n",
    "\n",
    "    for inputs, labels in dataloader:\n",
    "        inputs = inputs.to(device)\n",
    "        labels = labels.to(device)\n",
    "\n",
    "        with torch.set_grad_enabled(False):\n",
    "            outputs = model(inputs)\n",
    "            _, preds = torch.max(outputs, 1)\n",
    "            loss = criterion(outputs, labels)\n",
    "\n",
    "        running_loss += loss.item() * inputs.size(0)\n",
    "        running_corrects += torch.sum(preds == labels.data)\n",
    "    \n",
    "    return running_loss, running_corrects"
   ]
  },
  {
   "cell_type": "code",
   "execution_count": null,
   "metadata": {},
   "outputs": [],
   "source": [
    "running_loss, running_corrects = validate_one_epoch(model, dataloaders['val'], criterion, device)\n",
    "print(running_loss, running_corrects)"
   ]
  },
  {
   "cell_type": "code",
   "execution_count": null,
   "metadata": {},
   "outputs": [],
   "source": [
    "import copy\n",
    "\n",
    "def train_model(model, dataloaders, criterion, optimizer, scheduler, device, num_epochs):\n",
    "    best_model_wts = copy.deepcopy(model.state_dict())\n",
    "    best_acc = 0.0\n",
    "\n",
    "    # Lists for plot\n",
    "    train_loss_values = []\n",
    "    train_acc_values = []\n",
    "    val_loss_values = []\n",
    "    val_acc_values = []\n",
    "\n",
    "    for epoch in range(num_epochs):\n",
    "        print('Epoch {}/{}'.format(epoch, num_epochs - 1))\n",
    "        print('-' * 10)\n",
    "\n",
    "        # Training phase\n",
    "        running_loss, running_corrects = train_one_epoch(model, dataloaders['train'], criterion, optimizer, device)\n",
    "\n",
    "        scheduler.step()\n",
    "\n",
    "        epoch_loss = running_loss / len(dataloaders['train'].dataset)\n",
    "        epoch_acc = running_corrects.double() / len(dataloaders['train'].dataset)\n",
    "\n",
    "        print('{} Loss: {:.4f} Acc: {:.4f}'.format('train', epoch_loss, epoch_acc))\n",
    "        train_loss_values.append(epoch_loss)\n",
    "        train_acc_values.append(epoch_acc)\n",
    "\n",
    "        # Validation phase\n",
    "        running_loss, running_corrects = validate_one_epoch(model, dataloaders['val'], criterion, device)\n",
    "\n",
    "        epoch_loss = running_loss / len(dataloaders['val'].dataset)\n",
    "        epoch_acc = running_corrects.double() / len(dataloaders['val'].dataset)\n",
    "\n",
    "        print('{} Loss: {:.4f} Acc: {:.4f}'.format('val', epoch_loss, epoch_acc))\n",
    "        val_loss_values.append(epoch_loss)\n",
    "        val_acc_values.append(epoch_acc)\n",
    "\n",
    "        # deep copy the model\n",
    "        if epoch_acc > best_acc:\n",
    "            best_acc = epoch_acc\n",
    "            best_model_wts = copy.deepcopy(model.state_dict())\n",
    "\n",
    "        print()\n",
    "\n",
    "    print('Best val Acc: {:4f}'.format(best_acc))\n",
    "\n",
    "    # load best model weights\n",
    "    model.load_state_dict(best_model_wts)\n",
    "    return model, train_loss_values, train_acc_values, val_loss_values, val_acc_values, best_acc"
   ]
  },
  {
   "cell_type": "code",
   "execution_count": null,
   "metadata": {},
   "outputs": [],
   "source": [
    "model, train_loss_values, train_acc_values, val_loss_values, val_acc_values, best_acc = train_model(\n",
    "    model, dataloaders, criterion, optimizer, exp_lr_scheduler, device, num_epochs=25\n",
    ")"
   ]
  },
  {
   "cell_type": "markdown",
   "metadata": {},
   "source": [
    "## Visualization Training Result"
   ]
  },
  {
   "cell_type": "code",
   "execution_count": 9,
   "metadata": {},
   "outputs": [],
   "source": [
    "import matplotlib.pyplot as plt\n",
    "\n",
    "def plot_acc_loss(train_loss_values, val_loss_values, train_acc_values, val_acc_values):\n",
    "    # moving the tensor to cpu and converting them to numpy array for plotting\n",
    "    train_acc_values_cpu = [acc.cpu().detach().numpy() for acc in train_acc_values]\n",
    "    val_acc_values_cpu = [acc.cpu().detach().numpy() for acc in val_acc_values]\n",
    "\n",
    "    fig, (ax1, ax2) = plt.subplots(nrows=1, ncols=2, figsize=(15, 5))\n",
    "\n",
    "    # Plotting the loss values\n",
    "    ax1.plot(range(1, len(train_loss_values) + 1), train_loss_values, marker='o', label='Training Loss')\n",
    "    ax1.plot(range(1, len(val_loss_values) + 1), val_loss_values, marker='o', label='Validation Loss')\n",
    "    ax1.set_xlabel('Epochs', fontsize=14)\n",
    "    ax1.set_ylabel('Loss', fontsize=14)\n",
    "    ax1.set_title('Epoch vs Loss', fontsize=14)\n",
    "    ax1.legend()\n",
    "    ax1.grid(True)\n",
    "\n",
    "    # Plotting the accuracy values\n",
    "    ax2.plot(range(1, len(train_acc_values_cpu) + 1), train_acc_values_cpu, marker='o', label='Training Accuracy')\n",
    "    ax2.plot(range(1, len(val_acc_values_cpu) + 1), val_acc_values_cpu, marker='o', label='Validation Accuracy')\n",
    "    ax2.set_xlabel('Epochs', fontsize=14)\n",
    "    ax2.set_ylabel('Accuracy', fontsize=14)\n",
    "    ax2.set_title('Epoch vs Accuracy', fontsize=14)\n",
    "    ax2.legend()\n",
    "    ax2.grid(True)\n",
    "\n",
    "    plt.tight_layout()\n",
    "    plt.show()"
   ]
  },
  {
   "cell_type": "code",
   "execution_count": null,
   "metadata": {},
   "outputs": [],
   "source": [
    "plot_acc_loss(train_loss_values, val_loss_values, train_acc_values, val_acc_values)"
   ]
  },
  {
   "cell_type": "markdown",
   "metadata": {},
   "source": [
    "## Save the Model"
   ]
  },
  {
   "cell_type": "code",
   "execution_count": 80,
   "metadata": {},
   "outputs": [],
   "source": [
    "torch.save(model, 'model/pytorch/emotion_model_pytorch.pth')"
   ]
  },
  {
   "cell_type": "markdown",
   "metadata": {},
   "source": [
    "## Use the model"
   ]
  },
  {
   "cell_type": "code",
   "execution_count": 1,
   "metadata": {},
   "outputs": [],
   "source": [
    "import matplotlib.pyplot as plt\n",
    "from PIL import Image\n",
    "from torchvision import transforms\n",
    "import torch\n",
    "import torch.nn.functional as F\n",
    "\n",
    "def predict_image(use_model, image_path):\n",
    "    transform = transforms.Compose([\n",
    "        transforms.Resize((32, 32)),\n",
    "        transforms.ToTensor(),\n",
    "        transforms.Normalize((0.5, 0.5, 0.5), (0.5, 0.5, 0.5))\n",
    "    ])\n",
    "\n",
    "    device = torch.device(\"cuda\" if torch.cuda.is_available() else \"cpu\")\n",
    "    model = torch.load(use_model)\n",
    "    model = model.to(device)\n",
    "\n",
    "    image = Image.open(image_path).convert(\"RGB\")\n",
    "    plt.imshow(image)\n",
    "    plt.show()\n",
    "\n",
    "    # Predict emotion\n",
    "    image_transformed = transform(image).unsqueeze(0)\n",
    "    image_transformed = image_transformed.to(device)\n",
    "    with torch.no_grad():\n",
    "        output = model(image_transformed)\n",
    "        probabilities = F.softmax(output, dim=1)\n",
    "        \n",
    "    emotion_labels = ['anger', 'contempt', 'disgust', 'fear', 'happiness', 'neutrality', 'sadness', 'surprise']\n",
    "    emotion_probability_pair = [(emotion, probability.item()*100) for emotion, probability in zip(emotion_labels, probabilities[0])]\n",
    "    emotion_probability_pair.sort(key=lambda x: x[1], reverse=True)\n",
    "\n",
    "    # Print each emotion with its corresponding probability\n",
    "    for emotion, probability in emotion_probability_pair:\n",
    "        print(f\"{emotion}: {probability}%\")\n"
   ]
  },
  {
   "cell_type": "code",
   "execution_count": 4,
   "metadata": {},
   "outputs": [
    {
     "data": {
      "image/png": "[encoded data removed]",
      "text/plain": [
       "<Figure size 640x480 with 1 Axes>"
      ]
     },
     "metadata": {},
     "output_type": "display_data"
    },
    {
     "name": "stdout",
     "output_type": "stream",
     "text": [
      "happiness: 91.95832014083862%\n",
      "disgust: 3.426291048526764%\n",
      "contempt: 2.8408342972397804%\n",
      "neutrality: 0.9953229688107967%\n",
      "anger: 0.3487084759399295%\n",
      "sadness: 0.3456355072557926%\n",
      "fear: 0.062399281887337565%\n",
      "surprise: 0.022484314104076475%\n"
     ]
    }
   ],
   "source": [
    "# Test the model:\n",
    "model_path = 'model/master/emotion_model_pytorch.pth'\n",
    "predict_image(model_path, 'dataset/kaggle/happiness/images (20)_face.png')\n",
    "# predict_image(model_path, 'dataset/kaggle/anger/2Q__ (2)_face.png')\n",
    "# predict_image(model_path', dataset/sample/test/surprise/PublicTest_88902041.jpg')\n",
    "# predict_image(model_path, 'dataset/web/happy/image-1.jpg')"
   ]
  }
 ],
 "metadata": {
  "kernelspec": {
   "display_name": "Python 3 (ipykernel)",
   "language": "python",
   "name": "python3"
  },
  "language_info": {
   "codemirror_mode": {
    "name": "ipython",
    "version": 3
   },
   "file_extension": ".py",
   "mimetype": "text/x-python",
   "name": "python",
   "nbconvert_exporter": "python",
   "pygments_lexer": "ipython3",
   "version": "3.8.10"
  }
 },
 "nbformat": 4,
 "nbformat_minor": 4
}
